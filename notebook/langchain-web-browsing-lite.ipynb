{
 "cells": [
  {
   "attachments": {},
   "cell_type": "markdown",
   "metadata": {},
   "source": [
    "# Web Browsing"
   ]
  },
  {
   "attachments": {},
   "cell_type": "markdown",
   "metadata": {},
   "source": [
    "### **Snippet Based Search**"
   ]
  },
  {
   "cell_type": "code",
   "execution_count": 5,
   "metadata": {},
   "outputs": [],
   "source": [
    "from warnings import warn\n",
    "\n",
    "from fastapi.concurrency import run_in_threadpool\n",
    "from app.shared import Shared\n",
    "from app.utils.chat.chains import Chains\n",
    "from app.common.constants import JsonTemplates, QueryTemplates\n",
    "\n",
    "query = \"Explain to me what the vision pro is that Apple released.\""
   ]
  },
  {
   "cell_type": "code",
   "execution_count": 2,
   "metadata": {},
   "outputs": [
    {
     "name": "stdout",
     "output_type": "stream",
     "text": [
      "Apple vision pro explanation\n"
     ]
    }
   ],
   "source": [
    "query_to_search_json = await Chains.aget_json(\n",
    "    query_template=JsonTemplates.QUERY__GET_QUERY_FOR_WEB_BROWSING,\n",
    "    query=query,\n",
    ")\n",
    "if not isinstance(query_to_search_json, dict) or \"query\" not in query_to_search_json:\n",
    "    warn(f\"No query template found for query: {query}\")\n",
    "    query_to_search = query\n",
    "else:\n",
    "    query_to_search = query_to_search_json[\"query\"]\n",
    "print(query_to_search)"
   ]
  },
  {
   "cell_type": "code",
   "execution_count": 3,
   "metadata": {},
   "outputs": [
    {
     "name": "stdout",
     "output_type": "stream",
     "text": [
      "# [https://www.techradar.com/news/apple-vision-pro-7-things-you-need-to-know-about-the-mixed-reality-headset]\n",
      "```Apple Vision Pro: 12 things you need to know about the mixed-reality ...\n",
      "The Vision Pro effectively gives each of your eyes a 4K screen, with 23 million pixels spread across the two panels. In front of those are three-element lenses, while around the edge of the...\n",
      "```\n",
      "\n",
      "# [https://www.usatoday.com/story/tech/columnist/2023/06/07/apple-vision-pro-best-features/70296960007/]\n",
      "```Is Apple Vision Pro worth it? price, availability, what it does, more\n",
      "In development for multiple years and tied to more than 5,000 patents, Apple Vision Pro - simply referred to as \"Vision Pro,\" henceforth in this article - will be available in early 2024...\n",
      "```\n",
      "\n",
      "# [https://www.apple.com/newsroom/2023/06/introducing-apple-vision-pro/]\n",
      "```Introducing Apple Vision Pro: Apple's first spatial computer\n",
      "Vision Pro creates an infinite canvas for apps that scales beyond the boundaries of a traditional display and introduces a fully three-dimensional user interface controlled by the most natural and intuitive inputs possible — a user's eyes, hands, and voice.\n",
      "```\n",
      "\n",
      "# [https://techcrunch.com/2023/06/05/apple-vision-pro-everything-you-need-to-know/]\n",
      "```Apple Vision Pro: Here's everything you need to know\n",
      "The software powering the Vision Pro is visionOS, which Apple describes as \"the first OS designed for the ground up for spatial computing\" — \"spatial computing\" being Apple's phrase of...\n",
      "```\n",
      "\n",
      "# [https://www.tomsguide.com/reviews/apple-vision-pro]\n",
      "```Apple Vision Pro hands-on: A mixed reality breakthrough\n",
      "The Apple Vision Pro is a very powerful mixed reality headset with a sleek design, eye and hand tracking and sharp micro-OLED displays. This device offers immersive video watching, serious...\n",
      "```\n",
      "\n",
      "# [https://www.techradar.com/news/apple-vision-pro-everything-we-know]\n",
      "```Apple Vision Pro news, price, specs, and everything we know about the ...\n",
      "Design Specs and features After years of rumors, leaks, and speculation, Apple has finally unveiled the Vision Pro, its first AR and VR headset. Vision Pro Key Deatils -Mixed reality...\n",
      "```\n",
      "\n",
      "# [https://techcrunch.com/2023/06/05/first-impressions-yes-apple-vision-pro-works-and-yes-its-good/]\n",
      "```First impressions: Yes, Apple Vision Pro works and yes, it's good\n",
      "All of that comes at a price: $3,500 is on the high end of expectations and firmly places the device in the power user category for early adopters. Apple. Apple. The output of the interface and ...\n",
      "```\n",
      "\n",
      "# [https://theconversation.com/apple-vision-pro-headset-what-does-it-do-and-will-it-deliver-207125]\n",
      "```Apple Vision Pro headset: what does it do and will it deliver?\n",
      "More importantly, the Vision Pro boasts an impressive display system with \"more pixels than a 4K TV to each eye\". Its ability to track where the wearer's eyes are looking allows users to ...\n",
      "```\n",
      "\n",
      "# [https://www.macrumors.com/2023/06/06/apple-vision-pro-mac/]\n",
      "```How Apple Vision Pro Works With the Mac - MacRumors\n",
      "Apple Vision Pro is a standalone hardware device that has its own processors and does not require a connection to a Mac or an iPhone to operate, but it is able to interface with other Apple...\n",
      "```\n",
      "\n",
      "# [https://appleinsider.com/inside/apple-vision-pro]\n",
      "```Apple Vision Pro | AR, VR, MR - AppleInsider\n",
      "Versus. Apple Vision Pro was introduced during WWDC 2023 as a preview of the future for Apple. It is a mixed-reality headset with augmented reality and virtual reality applications. The headset ...\n",
      "```\n"
     ]
    }
   ],
   "source": [
    "assert query_to_search is not None\n",
    "ddg = Shared().duckduckgo\n",
    "snippets_with_link: dict[str, str] = await run_in_threadpool(\n",
    "    ddg.formatted_results_with_link, query=query_to_search\n",
    ")\n",
    "context = \"\\n\\n\".join(snippets_with_link.values())\n",
    "print(context)\n"
   ]
  },
  {
   "cell_type": "code",
   "execution_count": 4,
   "metadata": {},
   "outputs": [
    {
     "name": "stdout",
     "output_type": "stream",
     "text": [
      "The Apple Vision Pro is a mixed reality headset that creates a fully three-dimensional user interface controlled by the user's eyes, hands, and voice. It gives each eye a 4K screen with 23 million pixels and boasts an impressive display system with \"more pixels than a 4K TV to each eye\". The software powering the Vision Pro is visionOS, which Apple describes as \"the first OS designed for the ground up for spatial computing\". It is a standalone hardware device that has its own processors and does not require a connection to a Mac or an iPhone to operate, but it is able to interface with other Apple devices. The headset will be available for purchase in early 2024 and is priced at $3,500.\n"
     ]
    }
   ],
   "source": [
    "llm = Shared().openai_llm\n",
    "llm_output = await llm.apredict( # type: ignore\n",
    "    QueryTemplates.CONTEXT_QUESTION__DEFAULT.format(context=context, question=query)\n",
    ")\n",
    "print(llm_output)"
   ]
  }
 ],
 "metadata": {
  "kernelspec": {
   "display_name": ".venv",
   "language": "python",
   "name": "python3"
  },
  "language_info": {
   "codemirror_mode": {
    "name": "ipython",
    "version": 3
   },
   "file_extension": ".py",
   "mimetype": "text/x-python",
   "name": "python",
   "nbconvert_exporter": "python",
   "pygments_lexer": "ipython3",
   "version": "3.11.2"
  },
  "orig_nbformat": 4
 },
 "nbformat": 4,
 "nbformat_minor": 2
}
