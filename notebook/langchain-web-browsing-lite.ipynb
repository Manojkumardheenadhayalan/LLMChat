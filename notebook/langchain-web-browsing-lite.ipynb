{
 "cells": [
  {
   "attachments": {},
   "cell_type": "markdown",
   "metadata": {},
   "source": [
    "# Web Browsing"
   ]
  },
  {
   "attachments": {},
   "cell_type": "markdown",
   "metadata": {},
   "source": [
    "### **Snippet Based Search**"
   ]
  },
  {
   "cell_type": "code",
   "execution_count": 1,
   "metadata": {},
   "outputs": [],
   "source": [
    "from warnings import warn\n",
    "\n",
    "from fastapi.concurrency import run_in_threadpool\n",
    "from app.shared import Shared\n",
    "from app.utils.chat.chains import Chains\n",
    "from langchain.schema import HumanMessage\n",
    "from app.common.constants import JsonTemplates, QueryTemplates\n",
    "\n",
    "query = \"Explain to me what the vision pro is that Apple released.\"\n",
    "shared = Shared()"
   ]
  },
  {
   "cell_type": "code",
   "execution_count": 6,
   "metadata": {},
   "outputs": [
    {
     "name": "stdout",
     "output_type": "stream",
     "text": [
      "Apple Vision Pro\n"
     ]
    }
   ],
   "source": [
    "web_search_llm_output = (\n",
    "    await shared.web_search_llm.agenerate(\n",
    "        messages=[[HumanMessage(content=query)]],\n",
    "    )\n",
    ").llm_output\n",
    "assert web_search_llm_output is not None\n",
    "query_to_search = web_search_llm_output[\"function_calls\"][0][\"arguments\"][\n",
    "    \"query_to_search\"\n",
    "]\n",
    "print(query_to_search)"
   ]
  },
  {
   "cell_type": "code",
   "execution_count": 3,
   "metadata": {},
   "outputs": [
    {
     "name": "stdout",
     "output_type": "stream",
     "text": [
      "# [https://www.apple.com/newsroom/2023/06/introducing-apple-vision-pro/]\n",
      "```Introducing Apple Vision Pro: Apple's first spatial computer\n",
      "The breakthrough design of Vision Pro features an ultra-high-resolution display system that packs 23 million pixels across two displays, and custom Apple silicon in a unique dual-chip design to ensure every experience feels like it's taking place in front of the user's eyes in real time.\n",
      "```\n",
      "\n",
      "# [https://www.tomsguide.com/reviews/apple-vision-pro]\n",
      "```Apple Vision Pro hands-on: A mixed reality breakthrough\n",
      "The Apple Vision Pro is a very powerful mixed reality headset with a sleek design, eye and hand tracking and sharp micro-OLED displays. This device offers immersive video watching, serious...\n",
      "```\n",
      "\n",
      "# [https://techcrunch.com/2023/06/05/apple-headset/]\n",
      "```Apple's $3,499 Vision Pro AR headset is finally here\n",
      "Apple's $3,499 Vision Pro AR headset is finally here Brian Heater @ bheater / 12:00 PM PDT • June 5, 2023 Comment Image Credits: Apple After a reported seven years of development, Apple's...\n",
      "```\n",
      "\n",
      "# [https://www.youtube.com/watch?v=TX9qSaGXFyg]\n",
      "```Introducing Apple Vision Pro - YouTube\n",
      "17.1M subscribers Subscribe Share 480 views 1 minute ago #AppleVisionPro #WWDC23 #AppleEvent The era of spatial computing is here, where digital content blends seamlessly with your physical...\n",
      "```\n",
      "\n",
      "# [https://www.usatoday.com/story/tech/columnist/2023/06/07/apple-vision-pro-best-features/70296960007/]\n",
      "```Is Apple Vision Pro worth it? price, availability, what it does, more\n",
      "What does the Apple Vision Pro do? It's a wearable headset, with twin micro‑OLED displays - one for each eye - and featuring 23 million pixels, which is more than a 4K TV.\n",
      "```\n",
      "\n",
      "# [https://www.theverge.com/2023/6/5/23750003/apple-vision-pro-hands-on-the-best-headset-demo-ever]\n",
      "```I wore the Apple Vision Pro. It's the best headset demo ever.\n",
      "Jun 5, 2023, 7:05 PM PDT I just walked out of a long demo session with Apple's new $3,499 Vision Pro headset, which the company announced at WWDC 2023 as \"the world's most advanced consumer...\n",
      "```\n",
      "\n",
      "# [https://www.techradar.com/news/apple-vision-pro-everything-we-know]\n",
      "```Apple Vision Pro news, price, specs, and everything we know about the ...\n",
      "Vision Pro headset specs: Apple's headset uses two chipsets, an M2 and a new R1 to handle regular software and its XR capabilities respectively.It also has dual 4K displays. Vision Pro headset ...\n",
      "```\n",
      "\n",
      "# [https://arstechnica.com/gadgets/2023/06/hands-on-with-apple-vision-pro-this-is-not-a-vr-headset/]\n",
      "```Hands-on with Apple Vision Pro: This is not a VR headset\n",
      "Enlarge / This is Apple's Vision Pro headset. It looks a bit like a particularly bulky pair of ski goggles, with the materials and design language of Apple's AirPods Max headphones. Samuel ...\n",
      "```\n",
      "\n",
      "# [https://appleinsider.com/inside/apple-vision-pro]\n",
      "```Apple Vision Pro | AR, VR, MR - AppleInsider\n",
      "Apple Vision Pro was introduced during WWDC 2023 as a preview of the future for Apple. It is a mixed-reality headset with augmented reality and virtual reality applications.\n",
      "```\n",
      "\n",
      "# [https://www.apple.com/newsroom/archive/apple-vision-pro/]\n",
      "```Apple Vision Pro - Apple\n",
      "Get official Apple Vision Pro news from the Apple Newsroom archive. Access Apple Vision Pro press releases, updates, photos, videos and more.\n",
      "```\n"
     ]
    }
   ],
   "source": [
    "ddg = Shared().duckduckgo\n",
    "snippets_with_link: dict[str, str] = await run_in_threadpool(\n",
    "    ddg.formatted_results_with_link, query=query_to_search\n",
    ")\n",
    "context = \"\\n\\n\".join(snippets_with_link.values())\n",
    "print(context)"
   ]
  },
  {
   "cell_type": "code",
   "execution_count": 5,
   "metadata": {},
   "outputs": [
    {
     "name": "stdout",
     "output_type": "stream",
     "text": [
      "The Apple Vision Pro is a mixed-reality headset that was recently released by Apple. It features an ultra-high-resolution display system with two micro-OLED displays, providing a total of 23 million pixels. The headset is designed to offer immersive video watching and a range of augmented reality (AR) and virtual reality (VR) applications. It incorporates eye and hand tracking technology and is powered by custom Apple silicon, utilizing a unique dual-chip design. The Vision Pro aims to blend digital content seamlessly with the physical world, creating a spatial computing experience. The headset has been highly anticipated, with a reported seven years of development, and it is priced at $3,499.\n"
     ]
    }
   ],
   "source": [
    "llm_output = await shared.llm.apredict(  # type: ignore\n",
    "    QueryTemplates.CONTEXT_QUESTION__DEFAULT.format(context=context, question=query)\n",
    ")\n",
    "print(llm_output)"
   ]
  }
 ],
 "metadata": {
  "kernelspec": {
   "display_name": ".venv",
   "language": "python",
   "name": "python3"
  },
  "language_info": {
   "codemirror_mode": {
    "name": "ipython",
    "version": 3
   },
   "file_extension": ".py",
   "mimetype": "text/x-python",
   "name": "python",
   "nbconvert_exporter": "python",
   "pygments_lexer": "ipython3",
   "version": "3.11.2"
  },
  "orig_nbformat": 4
 },
 "nbformat": 4,
 "nbformat_minor": 2
}
