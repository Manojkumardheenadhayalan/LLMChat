{
 "cells": [
  {
   "attachments": {},
   "cell_type": "markdown",
   "metadata": {},
   "source": [
    "# Web Browsing"
   ]
  },
  {
   "attachments": {},
   "cell_type": "markdown",
   "metadata": {},
   "source": [
    "### **Snippet Based Search**"
   ]
  },
  {
   "cell_type": "code",
   "execution_count": 1,
   "metadata": {},
   "outputs": [
    {
     "name": "stderr",
     "output_type": "stream",
     "text": [
      "d:\\Projects\\chatgpt-webapp-server\\.venv\\Lib\\site-packages\\tqdm\\auto.py:21: TqdmWarning: IProgress not found. Please update jupyter and ipywidgets. See https://ipywidgets.readthedocs.io/en/stable/user_install.html\n",
      "  from .autonotebook import tqdm as notebook_tqdm\n"
     ]
    }
   ],
   "source": [
    "from warnings import warn\n",
    "\n",
    "from fastapi.concurrency import run_in_threadpool\n",
    "from app.shared import Shared\n",
    "from app.utils.chat.chains import Chains\n",
    "from app.common.constants import QueryBasedSearchTemplates, QueryTemplates\n"
   ]
  },
  {
   "cell_type": "code",
   "execution_count": 2,
   "metadata": {},
   "outputs": [
    {
     "name": "stdout",
     "output_type": "stream",
     "text": [
      "Apple vision pro\n"
     ]
    }
   ],
   "source": [
    "query = \"Explain to me what the vision pro is that Apple released.\"\n",
    "query_to_search = await Chains._aget_query_to_search(\n",
    "    query=query, query_template=QueryBasedSearchTemplates.QUERY__JSONIFY_WEB_BROWSING\n",
    ")\n",
    "if query_to_search is None:\n",
    "    query_to_search = query\n",
    "    warn(f\"No query template found for query: {query}\")\n",
    "print(query_to_search)\n"
   ]
  },
  {
   "cell_type": "code",
   "execution_count": 3,
   "metadata": {},
   "outputs": [
    {
     "name": "stdout",
     "output_type": "stream",
     "text": [
      "# [https://www.apple.com/newsroom/2023/06/introducing-apple-vision-pro/]\n",
      "```Introducing Apple Vision Pro: Apple's first spatial computer\n",
      "Apple Vision Pro brings a new dimension to powerful, personal computing by changing the way users interact with their favorite apps, capture and relive memories, enjoy stunning TV shows and movies, and connect with others in FaceTime.\n",
      "```\n",
      "\n",
      "# [https://www.tomsguide.com/reviews/apple-vision-pro]\n",
      "```Apple Vision Pro hands-on: A mixed reality breakthrough\n",
      "The Apple Vision Pro is a very powerful mixed reality headset with a sleek design, eye and hand tracking and sharp micro-OLED displays. This device offers immersive video watching, serious...\n",
      "```\n",
      "\n",
      "# [https://www.techradar.com/news/apple-vision-pro-7-things-you-need-to-know-about-the-mixed-reality-headset]\n",
      "```Apple Vision Pro: 12 things you need to know about the mixed-reality ...\n",
      "Apple Vision Pro pricing will start at $3,499 (around £2,815 / AU$5,290) when it goes on sale at Apple Stores in the US, with \"more countries coming later next year\". In other words, this...\n",
      "```\n",
      "\n",
      "# [https://www.usatoday.com/story/tech/columnist/2023/06/07/apple-vision-pro-best-features/70296960007/]\n",
      "```Is Apple Vision Pro worth it? price, availability, what it does, more\n",
      "What does the Apple Vision Pro do? It's a wearable headset, with twin micro‑OLED displays - one for each eye - and featuring 23 million pixels, which is more than a 4K TV.\n",
      "```\n",
      "\n",
      "# [https://techcrunch.com/2023/06/05/apple-headset/]\n",
      "```Apple's $3,499 Vision Pro AR headset is finally here\n",
      "Apple's $3,499 Vision Pro AR headset is finally here Brian Heater @ bheater / 12:00 PM PDT • June 5, 2023 Comment Image Credits: Apple After a reported seven years of development, Apple's...\n",
      "```\n",
      "\n",
      "# [https://www.wired.com/story/apple-vision-pro-specs-price-release-date/]\n",
      "```Apple Vision Pro Mixed-Reality Headset: Specs, Price, Release Date - WIRED\n",
      "Apple Vision Pro starts at $3,499 and will be available \"early next year,\" according to Apple. Photograph: Apple As previously reported, the Apple headset allows the wearer to see the real...\n",
      "```\n",
      "\n",
      "# [https://www.theverge.com/23747065/apple-vision-pro-headset-hands-on-features-specs-price-release-date]\n",
      "```Apple Vision Pro first look: the mixed reality future is (almost) here\n",
      "What does the Apple Vision Pro look like? Imagine a pair of ski goggles. The fanciest, most sci-fi ski goggles you've ever seen. There, you've got it. Apple just announced the Vision Pro ...\n",
      "```\n",
      "\n",
      "# [https://www.apple.com/ca/newsroom/2023/06/introducing-apple-vision-pro/]\n",
      "```Introducing Apple Vision Pro: Apple's first spatial computer\n",
      "TORONTO, ONTARIO Apple today unveiled Apple Vision Pro, a revolutionary spatial computer that seamlessly blends digital content with the physical world, while allowing users to stay present and connected to others.Vision Pro creates an infinite canvas for apps that scales beyond the boundaries of a traditional display and introduces a fully three-dimensional user interface controlled by the ...\n",
      "```\n",
      "\n",
      "# [https://appleinsider.com/inside/apple-vision-pro]\n",
      "```Apple Vision Pro | AR, VR, MR - AppleInsider\n",
      "Apple Vision Pro was introduced during WWDC 2023 as a preview of the future for Apple. It is a mixed-reality headset with augmented reality and virtual reality applications.\n",
      "```\n",
      "\n",
      "# [https://www.techradar.com/news/apple-vision-pro-everything-we-know]\n",
      "```Apple Vision Pro news, price, specs, and everything we know about the ...\n",
      "Vision Pro headset specs: Apple's headset uses two chipsets, an M2 and a new R1 to handle regular software and its XR capabilities respectively.It also has dual 4K displays. Vision Pro headset ...\n",
      "```\n"
     ]
    }
   ],
   "source": [
    "assert query_to_search is not None\n",
    "ddg = Shared().duckduckgo\n",
    "snippets_with_link: dict[str, str] = await run_in_threadpool(\n",
    "    ddg.formatted_results_with_link, query=query_to_search\n",
    ")\n",
    "context = \"\\n\\n\".join(snippets_with_link.values())\n",
    "print(context)\n"
   ]
  },
  {
   "cell_type": "code",
   "execution_count": 4,
   "metadata": {},
   "outputs": [
    {
     "name": "stdout",
     "output_type": "stream",
     "text": [
      "Apple Vision Pro is a mixed-reality headset that seamlessly blends digital content with the physical world. It has twin micro-OLED displays - one for each eye - featuring 23 million pixels, which is more than a 4K TV. The device offers immersive video watching, serious gaming, and enables users to stay present and connected to others. It has a fully three-dimensional user interface controlled by eye and hand tracking, and features sharp micro-OLED displays. The pricing for the device starts at $3,499 and will be available in the US, with more countries coming later next year. It uses two chipsets, an M2 and a new R1 to handle regular software and its XR capabilities respectively. Apple Vision Pro creates an infinite canvas for apps that scales beyond the boundaries of a traditional display.\n"
     ]
    }
   ],
   "source": [
    "llm = Shared().openai_llm\n",
    "llm_output = await llm.apredict( # type: ignore\n",
    "    QueryTemplates.CONTEXT_QUESTION__DEFAULT.format(context=context, question=query)\n",
    ")\n",
    "print(llm_output)"
   ]
  }
 ],
 "metadata": {
  "kernelspec": {
   "display_name": ".venv",
   "language": "python",
   "name": "python3"
  },
  "language_info": {
   "codemirror_mode": {
    "name": "ipython",
    "version": 3
   },
   "file_extension": ".py",
   "mimetype": "text/x-python",
   "name": "python",
   "nbconvert_exporter": "python",
   "pygments_lexer": "ipython3",
   "version": "3.11.2"
  },
  "orig_nbformat": 4
 },
 "nbformat": 4,
 "nbformat_minor": 2
}
