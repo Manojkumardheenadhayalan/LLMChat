{
 "cells": [
  {
   "cell_type": "code",
   "execution_count": 4,
   "metadata": {},
   "outputs": [
    {
     "name": "stdout",
     "output_type": "stream",
     "text": [
      "<class 'str'> https://thegeekpage.com/vmmem-high-memory-and-cpu-usage/\n"
     ]
    }
   ],
   "source": [
    "import openai\n",
    "\n",
    "assert openai.api_key is not None\n",
    "\n",
    "import re\n",
    "\n",
    "\n",
    "def find_urls(text):\n",
    "    url_pattern = re.compile(\n",
    "        r\"http[s]?://(?:[a-zA-Z]|[0-9]|[$-_@.&+]|[!*\\\\(\\\\),]|(?:%[0-9a-fA-F][0-9a-fA-F]))+\"\n",
    "    )\n",
    "    return re.findall(url_pattern, text)\n",
    "\n",
    "\n",
    "# 테스트를 위한 문자열\n",
    "text = \"https://thegeekpage.com/vmmem-high-memory-and-cpu-usage/에서\"\n",
    "\n",
    "urls = find_urls(text)\n",
    "for url in urls:\n",
    "    print(type(url), url)"
   ]
  },
  {
   "cell_type": "code",
   "execution_count": null,
   "metadata": {},
   "outputs": [],
   "source": []
  }
 ],
 "metadata": {
  "kernelspec": {
   "display_name": ".venv",
   "language": "python",
   "name": "python3"
  },
  "language_info": {
   "codemirror_mode": {
    "name": "ipython",
    "version": 3
   },
   "file_extension": ".py",
   "mimetype": "text/x-python",
   "name": "python",
   "nbconvert_exporter": "python",
   "pygments_lexer": "ipython3",
   "version": "3.11.2"
  },
  "orig_nbformat": 4
 },
 "nbformat": 4,
 "nbformat_minor": 2
}
