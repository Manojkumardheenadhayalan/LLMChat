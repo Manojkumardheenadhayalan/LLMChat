{
 "cells": [
  {
   "attachments": {},
   "cell_type": "markdown",
   "metadata": {},
   "source": [
    "# Langchain Tools Practice"
   ]
  },
  {
   "cell_type": "markdown",
   "metadata": {},
   "source": [
    "### Function Tool"
   ]
  },
  {
   "cell_type": "code",
   "execution_count": 2,
   "metadata": {},
   "outputs": [],
   "source": [
    "import os\n",
    "from app.shared import Shared\n",
    "from langchain.agents import initialize_agent, AgentType\n",
    "from app.utils.langchain.structured_tool import StructuredTool\n",
    "\n",
    "os.environ[\"LANGCHAIN_TRACING\"] = \"true\"\n",
    "shared = Shared()\n",
    "llm = shared.openai_llm"
   ]
  },
  {
   "cell_type": "code",
   "execution_count": 3,
   "metadata": {},
   "outputs": [],
   "source": [
    "def multiplier(a: float, b: float) -> float:\n",
    "    \"\"\"Multiply the provided floats.\"\"\"\n",
    "    return a * b\n",
    "\n",
    "\n",
    "tool = StructuredTool.from_function(multiplier)"
   ]
  },
  {
   "cell_type": "code",
   "execution_count": 6,
   "metadata": {},
   "outputs": [
    {
     "name": "stderr",
     "output_type": "stream",
     "text": [
      "WARNING:root:Failed to load default session, using empty session: 0\n"
     ]
    },
    {
     "name": "stdout",
     "output_type": "stream",
     "text": [
      "\n",
      "\n",
      "\u001b[1m> Entering new AgentExecutor chain...\u001b[0m\n",
      "\u001b[32;1m\u001b[1;3mThought: The human is asking for the product of 3 and 4.\n",
      "\n",
      "Action:\n",
      "```\n",
      "{\n",
      "  \"action\": \"multiplier\",\n",
      "  \"action_input\": {\n",
      "    \"a\": 3,\n",
      "    \"b\": 4\n",
      "  }\n",
      "}\n",
      "```\n",
      "\n",
      "\u001b[0m\n",
      "Observation: \u001b[36;1m\u001b[1;3m12.0\u001b[0m\n",
      "Thought:"
     ]
    },
    {
     "name": "stderr",
     "output_type": "stream",
     "text": [
      "WARNING:root:Failed to persist run: {\"status\":401,\"msg\":\"로그인이 필요한 서비스 입니다.\",\"detail\":\"Authorization Required\",\"code\":\"4010001\"}\n"
     ]
    },
    {
     "name": "stdout",
     "output_type": "stream",
     "text": [
      "\u001b[32;1m\u001b[1;3mThe human is asking for the result of multiplying 3 and 4.\n",
      "\n",
      "Action:\n",
      "```\n",
      "{\n",
      "  \"action\": \"Final Answer\",\n",
      "  \"action_input\": \"The product of 3 and 4 is 12.\"\n",
      "}\n",
      "```\n",
      "\n",
      "\u001b[0m\n",
      "\n",
      "\u001b[1m> Finished chain.\u001b[0m\n"
     ]
    },
    {
     "data": {
      "text/plain": [
       "'The product of 3 and 4 is 12.'"
      ]
     },
     "execution_count": 6,
     "metadata": {},
     "output_type": "execute_result"
    }
   ],
   "source": [
    "# Structured tools are compatible with the STRUCTURED_CHAT_ZERO_SHOT_REACT_DESCRIPTION agent type.\n",
    "agent_executor = initialize_agent(\n",
    "    [tool],\n",
    "    llm,\n",
    "    agent=AgentType.STRUCTURED_CHAT_ZERO_SHOT_REACT_DESCRIPTION,\n",
    "    verbose=True,\n",
    ")\n",
    "\n",
    "await agent_executor.arun(\"What is 3 times 4\")"
   ]
  },
  {
   "attachments": {},
   "cell_type": "markdown",
   "metadata": {},
   "source": [
    "### Web Search Tool"
   ]
  },
  {
   "cell_type": "code",
   "execution_count": 2,
   "metadata": {},
   "outputs": [],
   "source": [
    "from langchain.utilities import SearxSearchWrapper\n",
    "\n",
    "searx = SearxSearchWrapper(searx_host=\"http://localhost:8080\")"
   ]
  },
  {
   "cell_type": "code",
   "execution_count": 3,
   "metadata": {},
   "outputs": [],
   "source": [
    "result = await searx.arun(\"Mojo project\")"
   ]
  },
  {
   "cell_type": "code",
   "execution_count": 4,
   "metadata": {},
   "outputs": [
    {
     "name": "stdout",
     "output_type": "stream",
     "text": [
      "Mojo 🔥 — a new programming language for all AI developers. Mojo combines the usability of Python with the performance of C, unlocking unparalleled programmability of AI hardware and extensibility of AI models.\n",
      "\n",
      "Mojo is a new programming language that bridges the gap between research and production by combining Python syntax and ecosystem with systems programming and metaprogramming features. Mojo is still young, but it is designed to become a superset of Python over time.\n",
      "\n",
      "mojoproject 225 subscribers Subscribe 132K views 16 years ago second video clip from Mojo Project, from the album Taste the Mojo. Show more Could You Mojo Project - Topic 1.3K views 8 years...\n",
      "\n",
      "About this app arrow_forward Use Mojo to make the most incredible Reels, Insta Stories, and social media posts. With over 500 unique, animated templates, original text styles, music, and more,...\n",
      "\n",
      "To create your first app, you simply need to invok ethe mojo_manager application, this will create your project folder as follows: > mojo_manager.py -p MyNewProject > cd MyNewProject > mojo_manager.py -a HelloWorldApp. That’s it, all the files you need to get started should be created and in nbamed appropriately.\n",
      "\n",
      "840K ratings Best of 2019 +30mDownloads Let Mojo power your ideas Mojo gives you the tools to grow your business and your brand like never before. Download the app for free Download on the App StoreIt's free. Get it on Google PlayIt's free. They love us! Great App This is one of the best apps I have ever had.\n",
      "\n",
      "🤳 Get started with Mojo. Tips for your first project with Mojo. ... Learn more about Mojo pro & manage your subscription. By Nerea and 3 others 4 authors 15 articles. 🖌 Edit your project. Customize & add elements. By Jean and 2 others 3 authors 18 articles. 💪 Advanced tips. Make the most out of Mojo.\n",
      "\n",
      "Method Summary: public void setLog ( org.apache.maven.plugin.logging.Log ) [IMPLEMENTED] Inject a standard Maven logging mechanism to allow this Mojo to communicate events and feedback to the user.\n",
      "\n",
      "61K Followers, 565 Following, 1,824 Posts - See Instagram photos and videos from MOJO PROJECTS ® (@mymojoprojects)\n",
      "\n",
      "Mojo Project Office of Facilities Management and Operations 215-400-4310 You are Here Mojo Project Mojo Project – Home Home The Project Contact Us Blog MOJO Login Support Mojo Project Scroll System Status: The MOJO System is online and active. Last modified: August 7, 2017\n"
     ]
    }
   ],
   "source": [
    "print(result)"
   ]
  }
 ],
 "metadata": {
  "kernelspec": {
   "display_name": ".venv",
   "language": "python",
   "name": "python3"
  },
  "language_info": {
   "codemirror_mode": {
    "name": "ipython",
    "version": 3
   },
   "file_extension": ".py",
   "mimetype": "text/x-python",
   "name": "python",
   "nbconvert_exporter": "python",
   "pygments_lexer": "ipython3",
   "version": "3.11.2"
  },
  "orig_nbformat": 4
 },
 "nbformat": 4,
 "nbformat_minor": 2
}
