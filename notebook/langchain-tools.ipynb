{
 "cells": [
  {
   "attachments": {},
   "cell_type": "markdown",
   "metadata": {},
   "source": [
    "# Langchain Tools Practice"
   ]
  },
  {
   "attachments": {},
   "cell_type": "markdown",
   "metadata": {},
   "source": [
    "### Function Tool"
   ]
  },
  {
   "cell_type": "code",
   "execution_count": 2,
   "metadata": {},
   "outputs": [],
   "source": [
    "import os\n",
    "from app.shared import Shared\n",
    "from langchain.agents import initialize_agent, AgentType\n",
    "from app.utils.langchain.structured_tool import StructuredTool\n",
    "\n",
    "os.environ[\"LANGCHAIN_TRACING\"] = \"true\"\n",
    "shared = Shared()\n",
    "llm = shared.llm"
   ]
  },
  {
   "cell_type": "code",
   "execution_count": 3,
   "metadata": {},
   "outputs": [
    {
     "ename": "ModuleNotFoundError",
     "evalue": "No module named 'sse_starlette'",
     "output_type": "error",
     "traceback": [
      "\u001b[1;31m---------------------------------------------------------------------------\u001b[0m",
      "\u001b[1;31mModuleNotFoundError\u001b[0m                       Traceback (most recent call last)",
      "Cell \u001b[1;32mIn[3], line 7\u001b[0m\n\u001b[0;32m      3\u001b[0m     \u001b[39mreturn\u001b[39;00m a \u001b[39m*\u001b[39m b\n\u001b[0;32m      6\u001b[0m tool \u001b[39m=\u001b[39m StructuredTool\u001b[39m.\u001b[39mfrom_function(multiplier)\n\u001b[1;32m----> 7\u001b[0m \u001b[39mfrom\u001b[39;00m \u001b[39msse_starlette\u001b[39;00m\u001b[39m.\u001b[39;00m\u001b[39msse\u001b[39;00m \u001b[39mimport\u001b[39;00m EventSourceResponse\n",
      "\u001b[1;31mModuleNotFoundError\u001b[0m: No module named 'sse_starlette'"
     ]
    }
   ],
   "source": [
    "def multiplier(a: float, b: float) -> float:\n",
    "    \"\"\"Multiply the provided floats.\"\"\"\n",
    "    return a * b\n",
    "\n",
    "\n",
    "tool = StructuredTool.from_function(multiplier)"
   ]
  }
 ],
 "metadata": {
  "kernelspec": {
   "display_name": ".venv",
   "language": "python",
   "name": "python3"
  },
  "language_info": {
   "codemirror_mode": {
    "name": "ipython",
    "version": 3
   },
   "file_extension": ".py",
   "mimetype": "text/x-python",
   "name": "python",
   "nbconvert_exporter": "python",
   "pygments_lexer": "ipython3",
   "version": "3.11.2"
  },
  "orig_nbformat": 4
 },
 "nbformat": 4,
 "nbformat_minor": 2
}
