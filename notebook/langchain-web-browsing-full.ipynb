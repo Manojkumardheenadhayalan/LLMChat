{
 "cells": [
  {
   "attachments": {},
   "cell_type": "markdown",
   "metadata": {},
   "source": [
    "# Web Browsing"
   ]
  },
  {
   "attachments": {},
   "cell_type": "markdown",
   "metadata": {},
   "source": [
    "###  **Full Browsing**"
   ]
  },
  {
   "cell_type": "code",
   "execution_count": 4,
   "metadata": {},
   "outputs": [],
   "source": [
    "from aiohttp import ClientSession\n",
    "from lxml import html\n",
    "from langchain.schema import HumanMessage, SystemMessage\n",
    "from fastapi.concurrency import run_in_threadpool\n",
    "\n",
    "from app.shared import Shared\n",
    "from app.common.constants import QueryTemplates\n",
    "from app.utils.logger import CustomLogger, LoggingConfig\n",
    "\n",
    "logger = CustomLogger(\n",
    "    \"Browsing\", logging_config=LoggingConfig(file_log_name=\"./logs/notebook.log\")\n",
    ")\n",
    "\n",
    "shared = Shared()\n",
    "query = \"Explain to me what the vision pro is that Apple released.\""
   ]
  },
  {
   "cell_type": "code",
   "execution_count": 5,
   "metadata": {},
   "outputs": [
    {
     "name": "stderr",
     "output_type": "stream",
     "text": [
      "[2023-06-14 19:30:05,177] Browsing:INFO - query_to_search: Apple Vision Pro\n"
     ]
    },
    {
     "name": "stdout",
     "output_type": "stream",
     "text": [
      "snippets_with_link:\n",
      "{'https://www.apple.com/newsroom/2023/06/introducing-apple-vision-pro/': \"# [https://www.apple.com/newsroom/2023/06/introducing-apple-vision-pro/]\\n```Introducing Apple Vision Pro: Apple's first spatial computer\\nCUPERTINO, CALIFORNIA Apple today unveiled Apple Vision Pro, a revolutionary spatial computer that seamlessly blends digital content with the physical world, while allowing users to stay present and connected to others. Vision Pro creates an infinite canvas for apps that scales beyond the boundaries of a traditional display and introduces a ...\\n```\", 'https://www.tomsguide.com/reviews/apple-vision-pro': '# [https://www.tomsguide.com/reviews/apple-vision-pro]\\n```Apple Vision Pro hands-on: A mixed reality breakthrough\\nThe Apple Vision Pro is a very powerful mixed reality headset with a sleek design, eye and hand tracking and sharp micro-OLED displays. This device offers immersive video watching, serious...\\n```', 'https://techcrunch.com/2023/06/05/apple-headset/': \"# [https://techcrunch.com/2023/06/05/apple-headset/]\\n```Apple's $3,499 Vision Pro AR headset is finally here\\nApple's $3,499 Vision Pro AR headset is finally here Brian Heater @ bheater / 12:00 PM PDT • June 5, 2023 Comment Image Credits: Apple After a reported seven years of development, Apple's...\\n```\", 'https://www.usatoday.com/story/tech/columnist/2023/06/07/apple-vision-pro-best-features/70296960007/': '# [https://www.usatoday.com/story/tech/columnist/2023/06/07/apple-vision-pro-best-features/70296960007/]\\n```Is Apple Vision Pro worth it? price, availability, what it does, more\\nPricing for the Vision Pro starts at $3,499. When is the Apple Vision Pro available? It will be available in early 2024 - in the U.S. only. Other countries will follow at a later date. Apple ...\\n```', 'https://www.youtube.com/watch?v=TX9qSaGXFyg': '# [https://www.youtube.com/watch?v=TX9qSaGXFyg]\\n```Introducing Apple Vision Pro - YouTube\\n17.1M subscribers Subscribe Share 480 views 1 minute ago #AppleVisionPro #WWDC23 #AppleEvent The era of spatial computing is here, where digital content blends seamlessly with your physical...\\n```', 'https://www.theverge.com/2023/6/5/23738968/apple-vision-pro-ar-headset-features-specs-price-release-date-wwdc-2023': '# [https://www.theverge.com/2023/6/5/23738968/apple-vision-pro-ar-headset-features-specs-price-release-date-wwdc-2023]\\n```Apple Vision Pro is Apple\\'s new $3,499 AR headset - The Verge\\nJun 5, 2023, 6:26 PM UTC Apple has announced an augmented reality headset called Apple Vision Pro that \"seamlessly\" blends the real and digital world. \"It\\'s the first Apple product you look...\\n```', 'https://www.techradar.com/news/apple-vision-pro-everything-we-know': '# [https://www.techradar.com/news/apple-vision-pro-everything-we-know]\\n```Apple Vision Pro news, price, specs, and everything we know ... - TechRadar\\nApple says the Vision Pro will \"start\" at $3,499 (that\\'s around £2,800 / AU$5,300). That wording suggests that more expensive options will be available, but right now we don\\'t know what those ...\\n```', 'https://arstechnica.com/gadgets/2023/06/hands-on-with-apple-vision-pro-this-is-not-a-vr-headset/': \"# [https://arstechnica.com/gadgets/2023/06/hands-on-with-apple-vision-pro-this-is-not-a-vr-headset/]\\n```Hands-on with Apple Vision Pro: This is not a VR headset\\nEnlarge / This is Apple's Vision Pro headset. It looks a bit like a particularly bulky pair of ski goggles, with the materials and design language of Apple's AirPods Max headphones. Samuel ...\\n```\", 'https://appleinsider.com/inside/apple-vision-pro': \"# [https://appleinsider.com/inside/apple-vision-pro]\\n```Apple Vision Pro | AR, VR, MR - AppleInsider\\nApple Vision Pro is a headset that obscures the user's vision, not a pair of goggles or glasses. But, high-quality cameras pass 3D video of the environment to the user through a pair of pixel ...\\n```\", 'https://www.apple.com/newsroom/archive/apple-vision-pro/': '# [https://www.apple.com/newsroom/archive/apple-vision-pro/]\\n```Apple Vision Pro - Apple\\nGet official Apple Vision Pro news from the Apple Newsroom archive. Access Apple Vision Pro press releases, updates, photos, videos and more.\\n```'}\n"
     ]
    }
   ],
   "source": [
    "web_search_llm_output = (\n",
    "    await shared.web_search_llm.agenerate(\n",
    "        messages=[[HumanMessage(content=query)]],\n",
    "    )\n",
    ").llm_output\n",
    "assert web_search_llm_output is not None, \"Cannot browse the web without a query.\"\n",
    "query_to_search = web_search_llm_output[\"function_calls\"][0][\"arguments\"][\n",
    "    \"query_to_search\"\n",
    "]\n",
    "logger.info(f\"query_to_search: {query_to_search}\")\n",
    "\n",
    "snippets_with_link: dict[str, str] = await run_in_threadpool(\n",
    "    shared.duckduckgo.formatted_results_with_link, query=query_to_search\n",
    ")\n",
    "\n",
    "print(\"snippets_with_link:\")\n",
    "print(snippets_with_link)"
   ]
  },
  {
   "cell_type": "code",
   "execution_count": 6,
   "metadata": {},
   "outputs": [],
   "source": [
    "async def scrolling(\n",
    "    link: str,\n",
    "    tokens_per_chunk: int,\n",
    "    chunk_overlap: int,\n",
    ") -> str | None:\n",
    "    async with ClientSession() as session:\n",
    "        res = await session.get(link)\n",
    "        paragraphs = html.fromstring(await res.text()).xpath(\"//p\")\n",
    "        scrollable_contents: list[str] = Shared().token_text_splitter.split_text(\n",
    "            \"\\n\".join([p.text_content().strip() for p in paragraphs]),\n",
    "            tokens_per_chunk=tokens_per_chunk,\n",
    "            chunk_overlap=chunk_overlap,\n",
    "        )\n",
    "        for scrollable_content in scrollable_contents:\n",
    "            scrollable_content = scrollable_content.strip()\n",
    "            logger.info(f\"Reading content: {scrollable_content}\")\n",
    "            answerable_or_not_llm_output = (\n",
    "                await shared.control_web_page_llm.agenerate(\n",
    "                    messages=[\n",
    "                        [\n",
    "                            SystemMessage(content=scrollable_content),\n",
    "                            HumanMessage(content=query),\n",
    "                        ]\n",
    "                    ],\n",
    "                )\n",
    "            ).llm_output\n",
    "            if answerable_or_not_llm_output is None:\n",
    "                logger.info(\"Reading content failed.\")\n",
    "                continue\n",
    "            answerable = answerable_or_not_llm_output[\"function_calls\"][0][\"arguments\"][\n",
    "                \"answerable\"\n",
    "            ]\n",
    "            logger.info(f\"answerable: {answerable}\")\n",
    "            if answerable:\n",
    "                logger.info(\n",
    "                    \"I found a link that is sufficient to answer the user's question.\"\n",
    "                )\n",
    "                return scrollable_content\n",
    "            else:\n",
    "                continue\n",
    "        logger.info(\"This link is not sufficient to answer the user's question.\")\n",
    "        return None"
   ]
  },
  {
   "cell_type": "code",
   "execution_count": 12,
   "metadata": {},
   "outputs": [
    {
     "name": "stderr",
     "output_type": "stream",
     "text": [
      "[2023-06-14 19:46:58,533] Browsing:INFO - Clicking on link: https://www.theverge.com/2023/6/5/23738968/apple-vision-pro-ar-headset-features-specs-price-release-date-wwdc-2023\n",
      "[2023-06-14 19:47:00,663] Browsing:INFO - Reading content: By  Adi Robertson, a senior tech and policy editor focused on VR, online platforms, and free expression. Adi has covered video games, biohacking, and more for The Verge since 2011.\n",
      "Apple has announced an augmented reality headset called Apple Vision Pro that “seamlessly” blends the real and digital world. “It’s the first Apple product you look through, and not at,” CEO Tim Cook said of the device, which looks like a pair of ski goggles. As rumored, it features a separate battery pack and is controlled with eyes, hands, and voice. It will start at $3,499 and launch early next year, starting in the US market with more countries coming later in the year.\n",
      "Vision Pro is positioned as primarily an AR device, but it can switch between augmented and full virtual reality using a dial.\n",
      "The device is controller-free, and you browse rows of app icons in an operating system called visionOS by looking at them. You can tap to select and flick to scroll, you can also give voice commands, and Apple says “hundreds of thousands of familiar iPhone and iPad apps” will automatically work that way. On top of that, the headset supports Bluetooth accessories, including Magic Keyboard and Magic Trackpad, and lets you connect your Mac to use inside the headset. Downward-facing cameras can capture your hands even if they’re resting low on your body.\n",
      "You can see these, as well as loads of other details, in our 180-plus image gallery below:\n",
      "1/189\n",
      "1/189\n",
      "The headset has a glass front and an aluminum frame, containing five sensors, 12 cameras, a 4K display for each eye, and a computer that’s apparently cooled with a fan. The headset mask (which Apple dubs a “Light Seal”) and strap (which Apple dubs a “Head Band”) are cloth-lined and modular, and Apple says they can flex to fit to a variety of face shapes and head sizes. The Head Band is ribbed and fits around the back of your head, and you can swap different sizes and styles of band.\n",
      "Zeiss has created custom optical inserts that magnetically attach to the lenses for people who wear glasses. It has an external battery that lasts up to two hours and can connect via a “supple woven cable” so it slips into a pocket, or you can plug it into external power and use it all day. Apple promises that the display will be unprecedentedly sharp and can deliver 4K video.\n",
      "The system uses an M2, but it also includes a new chip called the R1.\n",
      "You’re also not, Apple promises, isolated from people around you. The headset will display your eyes with a system called EyeSight, and if you’re in full VR, a glowing screen will obscure them to suggest you’re not available. It also creates a digital “persona” — basically a hyperrealistic avatar — by scanning your face. The device uses passthrough video that lets you see the real world in full color, but you can project 3D objects into real space, including pulling objects out of a message thread into the real world.\n",
      "When you’re talking to people remotely, you can use spatial audio to do things like arrange FaceTime participants as “video tiles” around the room. And you can capture and “relive” 180-degree video with a 3D camera while inside the headset. Apple is also touting TV and Arcade content on the headset, including premium content from Disney.\n",
      "The headset has been in the works for years and has reportedly gone through several iterations as well as years of delays. It’s meant to be CEO Tim Cook’s signature addition to the Apple product lineup, and it’s garnered praise from industry insiders, even though it will enter a market that hasn’t taken off. Its primary competitor will likely be Meta, which has enjoyed relative success with its games-focused Quest 2 headset and gotten a more mixed reception to its general-purpose Quest Pro.\n",
      "/ Sign up for Verge Deals to get deals on products we've tested sent to your inbox daily.\n",
      "The Verge is a vox media network\n",
      "© 2023 Vox Media, LLC. All Rights Reserved\n",
      "[2023-06-14 19:47:01,352] Browsing:INFO - answerable: True\n",
      "[2023-06-14 19:47:01,352] Browsing:INFO - I found a link that is sufficient to answer the user's question.\n",
      "[2023-06-14 19:47:01,355] Browsing:INFO - We've got the answer!\n"
     ]
    }
   ],
   "source": [
    "tokens_per_chunk = 1024\n",
    "chunk_overlap = 256\n",
    "browsing_result: str | None = None\n",
    "\n",
    "snippets = \"\\n\\n\".join(snippets_with_link.values())\n",
    "while snippets_with_link:\n",
    "    browsing_llm_output = (\n",
    "        await shared.browsing_llm.agenerate(\n",
    "            messages=[\n",
    "                [\n",
    "                    SystemMessage(content=snippets),\n",
    "                    HumanMessage(content=query),\n",
    "                ]\n",
    "            ],\n",
    "        )\n",
    "    ).llm_output\n",
    "    assert browsing_llm_output is not None, \"Cannot browse the web anymore.\"\n",
    "    arguments = browsing_llm_output[\"function_calls\"][0][\"arguments\"]\n",
    "    if arguments[\"action\"] == \"click_link\":\n",
    "        logger.info(f\"Clicking on link: {arguments['link_to_click']}\")\n",
    "        snippets_with_link.pop(arguments[\"link_to_click\"])\n",
    "        scroll_result: str | None = await scrolling(\n",
    "            link=arguments[\"link_to_click\"],\n",
    "            tokens_per_chunk=tokens_per_chunk,\n",
    "            chunk_overlap=chunk_overlap,\n",
    "        )\n",
    "        if scroll_result is not None:\n",
    "            logger.info(\"We've got the answer!\")\n",
    "            browsing_result = scroll_result\n",
    "            break\n",
    "        else:\n",
    "            logger.info(\"We still don't have the answer.\")\n",
    "            continue\n",
    "    elif arguments[\"action\"] == \"finish_browsing\":\n",
    "        logger.info(\"Feedback bot decided to finish browsing.\")\n",
    "        browsing_result = snippets\n",
    "        break\n",
    "    else:\n",
    "        logger.info(f\"An error occurred while browsing: {arguments['action']}\")\n",
    "        browsing_result = snippets\n",
    "        break"
   ]
  },
  {
   "cell_type": "code",
   "execution_count": 14,
   "metadata": {},
   "outputs": [
    {
     "name": "stdout",
     "output_type": "stream",
     "text": [
      "The Vision Pro is an augmented reality headset released by Apple. It is a wearable device that seamlessly combines the real and digital world. The device, which resembles a pair of ski goggles, features a separate battery pack and can be controlled using eyes, hands, and voice commands. The headset can switch between augmented reality and full virtual reality using a dial.\n",
      "\n",
      "The Vision Pro operates on an operating system called visionOS, where users can browse rows of app icons by looking at them. It supports Bluetooth accessories such as the Magic Keyboard and Magic Trackpad, and users can connect their Mac to use inside the headset. The device also has downward-facing cameras that can capture hand movements.\n",
      "\n",
      "The headset has a glass front and an aluminum frame and contains five sensors, 12 cameras, and a 4K display for each eye. It is designed to be adjustable and can fit a variety of face shapes and head sizes. For those who wear glasses, custom optical inserts created by Zeiss can be magnetically attached to the lenses.\n",
      "\n",
      "The Vision Pro uses an M2 chip and includes a new chip called the R1. It has an external battery that lasts up to two hours and can be connected via a woven cable or plugged into external power for all-day use. The display is promised to be sharp and capable of delivering 4K video.\n",
      "\n",
      "The device also focuses on social interactions. It uses a system called EyeSight to display the user's eyes and can create a hyperrealistic avatar by scanning the user's face. It allows users to see the real world in full color through passthrough video and project 3D objects into real space.\n",
      "\n",
      "Other features of the Vision Pro include spatial audio for remote conversations, the ability to capture and relive 180-degree video with a 3D camera, and access to TV and Arcade content, including premium content from Disney.\n",
      "\n",
      "The Vision Pro has been in development for several years and has undergone multiple iterations and delays. It is considered CEO Tim Cook's signature addition to the Apple product lineup and has received praise from industry insiders. Its primary competitor in the market is expected to be Meta, known for its Quest 2 and Quest Pro headsets.\n"
     ]
    }
   ],
   "source": [
    "llm_output = await shared.llm.apredict(  # type: ignore\n",
    "    QueryTemplates.CONTEXT_QUESTION__DEFAULT.format(\n",
    "        context=browsing_result, question=query\n",
    "    )\n",
    ")\n",
    "print(llm_output)"
   ]
  }
 ],
 "metadata": {
  "kernelspec": {
   "display_name": ".venv",
   "language": "python",
   "name": "python3"
  },
  "language_info": {
   "codemirror_mode": {
    "name": "ipython",
    "version": 3
   },
   "file_extension": ".py",
   "mimetype": "text/x-python",
   "name": "python",
   "nbconvert_exporter": "python",
   "pygments_lexer": "ipython3",
   "version": "3.11.2"
  },
  "orig_nbformat": 4
 },
 "nbformat": 4,
 "nbformat_minor": 2
}
